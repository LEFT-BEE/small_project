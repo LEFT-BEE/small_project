{
  "nbformat": 4,
  "nbformat_minor": 0,
  "metadata": {
    "colab": {
      "name": "Untitled0.ipynb",
      "provenance": [],
      "mount_file_id": "1s6MoeAVG0DIY0Ym_cGH8hdtCTCyYicN-",
      "authorship_tag": "ABX9TyPbO9xWmmFj5Gjf2l8YusxS",
      "include_colab_link": true
    },
    "kernelspec": {
      "display_name": "Python 3",
      "name": "python3"
    }
  },
  "cells": [
    {
      "cell_type": "markdown",
      "metadata": {
        "id": "view-in-github",
        "colab_type": "text"
      },
      "source": [
        "<a href=\"https://colab.research.google.com/github/LEFT-BEE/small_project/blob/main/mnist_csv_img_recog.ipynb\" target=\"_parent\"><img src=\"https://colab.research.google.com/assets/colab-badge.svg\" alt=\"Open In Colab\"/></a>"
      ]
    },
    {
      "cell_type": "code",
      "metadata": {
        "id": "INcL4J0ZynvO"
      },
      "source": [
        "import pandas as pd\r\n",
        "import numpy as np\r\n",
        "from keras import layers"
      ],
      "execution_count": 24,
      "outputs": []
    },
    {
      "cell_type": "code",
      "metadata": {
        "colab": {
          "base_uri": "https://localhost:8080/"
        },
        "id": "8wBNsAJ01Lvi",
        "outputId": "94e6dad4-d7ca-473b-da9a-20fe04c6ee0c"
      },
      "source": [
        "test_data = pd.read_csv(\"/content/drive/MyDrive/Kaggle project/recognition_digit/test.csv\")\r\n",
        "train_data = pd.read_csv(\"/content/drive/MyDrive/Kaggle project/recognition_digit/train.csv\")\r\n",
        "print(train_data.shape)#42000개의 데이터를 가진 csv파일 train에는 label 이 있어 axis=1의 크기가 785이다\r\n",
        "print(test_data.shape)"
      ],
      "execution_count": 15,
      "outputs": [
        {
          "output_type": "stream",
          "text": [
            "(42000, 785)\n",
            "(28000, 784)\n"
          ],
          "name": "stdout"
        }
      ]
    },
    {
      "cell_type": "code",
      "metadata": {
        "id": "ovyiYw2P4ZNa"
      },
      "source": [
        "label = train_data.label\r\n",
        "train_data = train_data.drop(\"label\" , axis =1);"
      ],
      "execution_count": 16,
      "outputs": []
    },
    {
      "cell_type": "code",
      "metadata": {
        "id": "dbkK7boc4yFZ"
      },
      "source": [
        "model = keras.models.Sequential([\r\n",
        "    \r\n",
        "    layers.Dense(input_dim = 784 , units = 512, activation=\"relu\"),\r\n",
        "    layers.Dense(256,activation=\"relu\"),\r\n",
        "    layers.Dense(10, activation=\"softmax\")\r\n",
        "])"
      ],
      "execution_count": 51,
      "outputs": []
    },
    {
      "cell_type": "code",
      "metadata": {
        "id": "0vylFktoD8OD"
      },
      "source": [
        "model.compile(optimizer='adam',\r\n",
        "              loss='sparse_categorical_crossentropy',\r\n",
        "              metrics=['accuracy'])"
      ],
      "execution_count": 52,
      "outputs": []
    },
    {
      "cell_type": "code",
      "metadata": {
        "id": "BeHZ2NBjMfHH"
      },
      "source": [
        "val_train  , val_label = train_data[40000:42000] , label[40000:42000]"
      ],
      "execution_count": 70,
      "outputs": []
    },
    {
      "cell_type": "code",
      "metadata": {
        "colab": {
          "base_uri": "https://localhost:8080/"
        },
        "id": "j0lfYzOCEkac",
        "outputId": "2d184179-a205-4baa-b33c-0ec3a6fad2ed"
      },
      "source": [
        "model.fit(train_data , label , epochs = 10)#이거 왜 데이터가 1313개만 학습이 될까...?"
      ],
      "execution_count": 55,
      "outputs": [
        {
          "output_type": "stream",
          "text": [
            "Epoch 1/10\n",
            "1313/1313 [==============================] - 8s 6ms/step - loss: 0.1303 - accuracy: 0.9656\n",
            "Epoch 2/10\n",
            "1313/1313 [==============================] - 8s 6ms/step - loss: 0.1226 - accuracy: 0.9680\n",
            "Epoch 3/10\n",
            "1313/1313 [==============================] - 8s 6ms/step - loss: 0.1162 - accuracy: 0.9705\n",
            "Epoch 4/10\n",
            "1313/1313 [==============================] - 8s 6ms/step - loss: 0.1035 - accuracy: 0.9737\n",
            "Epoch 5/10\n",
            "1313/1313 [==============================] - 8s 6ms/step - loss: 0.0988 - accuracy: 0.9743\n",
            "Epoch 6/10\n",
            "1313/1313 [==============================] - 8s 6ms/step - loss: 0.0883 - accuracy: 0.9777\n",
            "Epoch 7/10\n",
            "1313/1313 [==============================] - 8s 6ms/step - loss: 0.0783 - accuracy: 0.9797\n",
            "Epoch 8/10\n",
            "1313/1313 [==============================] - 8s 6ms/step - loss: 0.0887 - accuracy: 0.9796\n",
            "Epoch 9/10\n",
            "1313/1313 [==============================] - 8s 6ms/step - loss: 0.0778 - accuracy: 0.9817\n",
            "Epoch 10/10\n",
            "1313/1313 [==============================] - 8s 6ms/step - loss: 0.0687 - accuracy: 0.9839\n"
          ],
          "name": "stdout"
        },
        {
          "output_type": "execute_result",
          "data": {
            "text/plain": [
              "<tensorflow.python.keras.callbacks.History at 0x7f3eed236c90>"
            ]
          },
          "metadata": {
            "tags": []
          },
          "execution_count": 55
        }
      ]
    },
    {
      "cell_type": "code",
      "metadata": {
        "colab": {
          "base_uri": "https://localhost:8080/"
        },
        "id": "OGjKRmoFEtfR",
        "outputId": "136696df-3c05-4ce8-ac1c-0602d93298e8"
      },
      "source": [
        "test_loss, test_acc = model.evaluate(val_train, val_label)\r\n",
        "print('테스트 정확도:', test_acc)"
      ],
      "execution_count": 60,
      "outputs": [
        {
          "output_type": "stream",
          "text": [
            "157/157 [==============================] - 1s 3ms/step - loss: 0.0689 - accuracy: 0.9818\n",
            "테스트 정확도: 0.9818000197410583\n"
          ],
          "name": "stdout"
        }
      ]
    },
    {
      "cell_type": "code",
      "metadata": {
        "colab": {
          "base_uri": "https://localhost:8080/"
        },
        "id": "aO1LsSZ6FH7v",
        "outputId": "3345a5cf-81ac-4058-872f-a9667e71ef75"
      },
      "source": [
        "loss, accuracy = [], []\r\n",
        "for i in range(10):\r\n",
        "    model.fit(val_train, val_label, epochs=1)\r\n",
        "    loss.append((model.evaluate(val_train), val_label)[0])\r\n",
        "    accuracy.append(model.evaluate(val_train, val_label)[1])\r\n",
        "print(accuracy)\r\n"
      ],
      "execution_count": 71,
      "outputs": [
        {
          "output_type": "stream",
          "text": [
            "63/63 [==============================] - 0s 8ms/step - loss: 0.3069 - accuracy: 0.9650\n",
            "63/63 [==============================] - 0s 1ms/step - loss: 0.0000e+00 - accuracy: 0.0000e+00\n",
            "63/63 [==============================] - 0s 3ms/step - loss: 0.1955 - accuracy: 0.9655\n",
            "63/63 [==============================] - 0s 7ms/step - loss: 0.2417 - accuracy: 0.9640\n",
            "63/63 [==============================] - 0s 1ms/step - loss: 0.0000e+00 - accuracy: 0.0000e+00\n",
            "63/63 [==============================] - 0s 3ms/step - loss: 0.0849 - accuracy: 0.9770\n",
            "63/63 [==============================] - 0s 6ms/step - loss: 0.0877 - accuracy: 0.9795\n",
            "63/63 [==============================] - 0s 1ms/step - loss: 0.0000e+00 - accuracy: 0.0000e+00\n",
            "63/63 [==============================] - 0s 3ms/step - loss: 0.1545 - accuracy: 0.9805\n",
            "63/63 [==============================] - 0s 7ms/step - loss: 0.1033 - accuracy: 0.9825\n",
            "63/63 [==============================] - 0s 1ms/step - loss: 0.0000e+00 - accuracy: 0.0000e+00\n",
            "63/63 [==============================] - 0s 3ms/step - loss: 0.0567 - accuracy: 0.9835\n",
            "63/63 [==============================] - 0s 6ms/step - loss: 0.1010 - accuracy: 0.9870\n",
            "63/63 [==============================] - 0s 1ms/step - loss: 0.0000e+00 - accuracy: 0.0000e+00\n",
            "63/63 [==============================] - 0s 3ms/step - loss: 0.0589 - accuracy: 0.9880\n",
            "63/63 [==============================] - 0s 6ms/step - loss: 0.0612 - accuracy: 0.9890\n",
            "63/63 [==============================] - 0s 1ms/step - loss: 0.0000e+00 - accuracy: 0.0000e+00\n",
            "63/63 [==============================] - 0s 3ms/step - loss: 0.0327 - accuracy: 0.9895\n",
            "63/63 [==============================] - 0s 7ms/step - loss: 0.0233 - accuracy: 0.9910\n",
            "63/63 [==============================] - 0s 1ms/step - loss: 0.0000e+00 - accuracy: 0.0000e+00\n",
            "63/63 [==============================] - 0s 3ms/step - loss: 0.0179 - accuracy: 0.9935\n",
            "63/63 [==============================] - 0s 7ms/step - loss: 0.0182 - accuracy: 0.9930\n",
            "63/63 [==============================] - 0s 1ms/step - loss: 0.0000e+00 - accuracy: 0.0000e+00\n",
            "63/63 [==============================] - 0s 3ms/step - loss: 0.0169 - accuracy: 0.9940\n",
            "63/63 [==============================] - 0s 6ms/step - loss: 0.0188 - accuracy: 0.9930\n",
            "63/63 [==============================] - 0s 2ms/step - loss: 0.0000e+00 - accuracy: 0.0000e+00\n",
            "63/63 [==============================] - 0s 3ms/step - loss: 0.0149 - accuracy: 0.9945\n",
            "63/63 [==============================] - 0s 6ms/step - loss: 0.0157 - accuracy: 0.9940\n",
            "63/63 [==============================] - 0s 1ms/step - loss: 0.0000e+00 - accuracy: 0.0000e+00\n",
            "63/63 [==============================] - 0s 3ms/step - loss: 0.0139 - accuracy: 0.9940\n",
            "[0.965499997138977, 0.9769999980926514, 0.9804999828338623, 0.9835000038146973, 0.9879999756813049, 0.9894999861717224, 0.9934999942779541, 0.9940000176429749, 0.9944999814033508, 0.9940000176429749]\n"
          ],
          "name": "stdout"
        }
      ]
    },
    {
      "cell_type": "code",
      "metadata": {
        "id": "WfwupEHfH9h0"
      },
      "source": [
        "from matplotlib import pyplot as plt\r\n",
        "y_value = accuracy\r\n",
        "loss_value = loss\r\n",
        "x_value = [1,2,3,4,5,6,7,8,9,10]"
      ],
      "execution_count": 75,
      "outputs": []
    },
    {
      "cell_type": "code",
      "metadata": {
        "colab": {
          "base_uri": "https://localhost:8080/",
          "height": 281
        },
        "id": "aMuacx2iN_SY",
        "outputId": "6a724555-e565-4ecd-a47c-e1adf1c8ecf5"
      },
      "source": [
        "plt.plot(x_value , y_value , label = \"accuracy\")\r\n",
        "plt.title(\"accuracy\")\r\n",
        "plt.show()"
      ],
      "execution_count": 80,
      "outputs": [
        {
          "output_type": "display_data",
          "data": {
            "image/png": "[encoded data removed]",
            "text/plain": [
              "<Figure size 432x288 with 1 Axes>"
            ]
          },
          "metadata": {
            "tags": [],
            "needs_background": "light"
          }
        }
      ]
    }
  ]
}